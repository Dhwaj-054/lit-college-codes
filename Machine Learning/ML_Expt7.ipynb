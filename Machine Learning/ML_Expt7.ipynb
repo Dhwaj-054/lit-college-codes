{
  "nbformat": 4,
  "nbformat_minor": 0,
  "metadata": {
    "colab": {
      "provenance": []
    },
    "kernelspec": {
      "name": "python3",
      "display_name": "Python 3"
    },
    "language_info": {
      "name": "python"
    }
  },
  "cells": [
    {
      "cell_type": "code",
      "execution_count": null,
      "metadata": {
        "id": "jy0weIYGyT2x",
        "colab": {
          "base_uri": "https://localhost:8080/"
        },
        "outputId": "bcb9f3c6-163c-4b91-be22-1b76e17a374d"
      },
      "outputs": [
        {
          "output_type": "stream",
          "name": "stdout",
          "text": [
            "ML Expt 7\n",
            "Dhwaj Jain S012\n"
          ]
        }
      ],
      "source": [
        "print(\"ML Expt 7\")\n",
        "print(\"Dhwaj Jain S012\")"
      ]
    },
    {
      "cell_type": "code",
      "source": [
        "pip install pgmpy\n"
      ],
      "metadata": {
        "id": "Jpnz7_Dcyael",
        "colab": {
          "base_uri": "https://localhost:8080/"
        },
        "outputId": "0f9558cb-f572-4d8d-df41-04951e4ac396"
      },
      "execution_count": null,
      "outputs": [
        {
          "output_type": "stream",
          "name": "stdout",
          "text": [
            "Requirement already satisfied: pgmpy in /usr/local/lib/python3.12/dist-packages (1.0.0)\n",
            "Requirement already satisfied: networkx in /usr/local/lib/python3.12/dist-packages (from pgmpy) (3.5)\n",
            "Requirement already satisfied: numpy in /usr/local/lib/python3.12/dist-packages (from pgmpy) (2.0.2)\n",
            "Requirement already satisfied: scipy in /usr/local/lib/python3.12/dist-packages (from pgmpy) (1.16.2)\n",
            "Requirement already satisfied: scikit-learn in /usr/local/lib/python3.12/dist-packages (from pgmpy) (1.6.1)\n",
            "Requirement already satisfied: pandas in /usr/local/lib/python3.12/dist-packages (from pgmpy) (2.2.2)\n",
            "Requirement already satisfied: torch in /usr/local/lib/python3.12/dist-packages (from pgmpy) (2.8.0+cu126)\n",
            "Requirement already satisfied: statsmodels in /usr/local/lib/python3.12/dist-packages (from pgmpy) (0.14.5)\n",
            "Requirement already satisfied: tqdm in /usr/local/lib/python3.12/dist-packages (from pgmpy) (4.67.1)\n",
            "Requirement already satisfied: joblib in /usr/local/lib/python3.12/dist-packages (from pgmpy) (1.5.2)\n",
            "Requirement already satisfied: opt-einsum in /usr/local/lib/python3.12/dist-packages (from pgmpy) (3.4.0)\n",
            "Requirement already satisfied: pyro-ppl in /usr/local/lib/python3.12/dist-packages (from pgmpy) (1.9.1)\n",
            "Requirement already satisfied: python-dateutil>=2.8.2 in /usr/local/lib/python3.12/dist-packages (from pandas->pgmpy) (2.9.0.post0)\n",
            "Requirement already satisfied: pytz>=2020.1 in /usr/local/lib/python3.12/dist-packages (from pandas->pgmpy) (2025.2)\n",
            "Requirement already satisfied: tzdata>=2022.7 in /usr/local/lib/python3.12/dist-packages (from pandas->pgmpy) (2025.2)\n",
            "Requirement already satisfied: pyro-api>=0.1.1 in /usr/local/lib/python3.12/dist-packages (from pyro-ppl->pgmpy) (0.1.2)\n",
            "Requirement already satisfied: filelock in /usr/local/lib/python3.12/dist-packages (from torch->pgmpy) (3.20.0)\n",
            "Requirement already satisfied: typing-extensions>=4.10.0 in /usr/local/lib/python3.12/dist-packages (from torch->pgmpy) (4.15.0)\n",
            "Requirement already satisfied: setuptools in /usr/local/lib/python3.12/dist-packages (from torch->pgmpy) (75.2.0)\n",
            "Requirement already satisfied: sympy>=1.13.3 in /usr/local/lib/python3.12/dist-packages (from torch->pgmpy) (1.13.3)\n",
            "Requirement already satisfied: jinja2 in /usr/local/lib/python3.12/dist-packages (from torch->pgmpy) (3.1.6)\n",
            "Requirement already satisfied: fsspec in /usr/local/lib/python3.12/dist-packages (from torch->pgmpy) (2025.3.0)\n",
            "Requirement already satisfied: nvidia-cuda-nvrtc-cu12==12.6.77 in /usr/local/lib/python3.12/dist-packages (from torch->pgmpy) (12.6.77)\n",
            "Requirement already satisfied: nvidia-cuda-runtime-cu12==12.6.77 in /usr/local/lib/python3.12/dist-packages (from torch->pgmpy) (12.6.77)\n",
            "Requirement already satisfied: nvidia-cuda-cupti-cu12==12.6.80 in /usr/local/lib/python3.12/dist-packages (from torch->pgmpy) (12.6.80)\n",
            "Requirement already satisfied: nvidia-cudnn-cu12==9.10.2.21 in /usr/local/lib/python3.12/dist-packages (from torch->pgmpy) (9.10.2.21)\n",
            "Requirement already satisfied: nvidia-cublas-cu12==12.6.4.1 in /usr/local/lib/python3.12/dist-packages (from torch->pgmpy) (12.6.4.1)\n",
            "Requirement already satisfied: nvidia-cufft-cu12==11.3.0.4 in /usr/local/lib/python3.12/dist-packages (from torch->pgmpy) (11.3.0.4)\n",
            "Requirement already satisfied: nvidia-curand-cu12==10.3.7.77 in /usr/local/lib/python3.12/dist-packages (from torch->pgmpy) (10.3.7.77)\n",
            "Requirement already satisfied: nvidia-cusolver-cu12==11.7.1.2 in /usr/local/lib/python3.12/dist-packages (from torch->pgmpy) (11.7.1.2)\n",
            "Requirement already satisfied: nvidia-cusparse-cu12==12.5.4.2 in /usr/local/lib/python3.12/dist-packages (from torch->pgmpy) (12.5.4.2)\n",
            "Requirement already satisfied: nvidia-cusparselt-cu12==0.7.1 in /usr/local/lib/python3.12/dist-packages (from torch->pgmpy) (0.7.1)\n",
            "Requirement already satisfied: nvidia-nccl-cu12==2.27.3 in /usr/local/lib/python3.12/dist-packages (from torch->pgmpy) (2.27.3)\n",
            "Requirement already satisfied: nvidia-nvtx-cu12==12.6.77 in /usr/local/lib/python3.12/dist-packages (from torch->pgmpy) (12.6.77)\n",
            "Requirement already satisfied: nvidia-nvjitlink-cu12==12.6.85 in /usr/local/lib/python3.12/dist-packages (from torch->pgmpy) (12.6.85)\n",
            "Requirement already satisfied: nvidia-cufile-cu12==1.11.1.6 in /usr/local/lib/python3.12/dist-packages (from torch->pgmpy) (1.11.1.6)\n",
            "Requirement already satisfied: triton==3.4.0 in /usr/local/lib/python3.12/dist-packages (from torch->pgmpy) (3.4.0)\n",
            "Requirement already satisfied: threadpoolctl>=3.1.0 in /usr/local/lib/python3.12/dist-packages (from scikit-learn->pgmpy) (3.6.0)\n",
            "Requirement already satisfied: patsy>=0.5.6 in /usr/local/lib/python3.12/dist-packages (from statsmodels->pgmpy) (1.0.1)\n",
            "Requirement already satisfied: packaging>=21.3 in /usr/local/lib/python3.12/dist-packages (from statsmodels->pgmpy) (25.0)\n",
            "Requirement already satisfied: six>=1.5 in /usr/local/lib/python3.12/dist-packages (from python-dateutil>=2.8.2->pandas->pgmpy) (1.17.0)\n",
            "Requirement already satisfied: mpmath<1.4,>=1.1.0 in /usr/local/lib/python3.12/dist-packages (from sympy>=1.13.3->torch->pgmpy) (1.3.0)\n",
            "Requirement already satisfied: MarkupSafe>=2.0 in /usr/local/lib/python3.12/dist-packages (from jinja2->torch->pgmpy) (3.0.3)\n"
          ]
        }
      ]
    },
    {
      "cell_type": "code",
      "source": [
        "from pgmpy.models import DiscreteBayesianNetwork as DiscreteBayesianNetwork\n",
        "from pgmpy.factors.discrete import TabularCPD\n",
        "from pgmpy.inference import VariableElimination"
      ],
      "metadata": {
        "id": "xwLq7taTycMd"
      },
      "execution_count": null,
      "outputs": []
    },
    {
      "cell_type": "code",
      "source": [
        "#structure of the Bayesian Network\n",
        "\n",
        "model_structure = DiscreteBayesianNetwork([\n",
        "    ('Burglary', 'Alarm'),\n",
        "    ('Earthquake', 'Alarm'),\n",
        "    ('Alarm', 'JohnCalls'),\n",
        "    ('Alarm', 'MerryCalls')\n",
        "])"
      ],
      "metadata": {
        "id": "Oh5j6oHQzki5"
      },
      "execution_count": null,
      "outputs": []
    },
    {
      "cell_type": "code",
      "source": [
        "#CPDs (Conditional Probabilty Distributions)\n",
        "cpd_burglary = TabularCPD(\n",
        "    variable=\"Burglary\",\n",
        "    variable_card=2,\n",
        "    values=[[.999], [.001]]\n",
        ")\n",
        "\n",
        "print(cpd_burglary)"
      ],
      "metadata": {
        "colab": {
          "base_uri": "https://localhost:8080/"
        },
        "id": "BdYi5DjV0als",
        "outputId": "9172aab1-eba7-4957-d8aa-729c7287c814"
      },
      "execution_count": null,
      "outputs": [
        {
          "output_type": "stream",
          "name": "stdout",
          "text": [
            "+-------------+-------+\n",
            "| Burglary(0) | 0.999 |\n",
            "+-------------+-------+\n",
            "| Burglary(1) | 0.001 |\n",
            "+-------------+-------+\n"
          ]
        }
      ]
    },
    {
      "cell_type": "code",
      "source": [
        "cpd_earthquake=TabularCPD(\n",
        "    variable=\"Earthquake\",\n",
        "    variable_card=2,\n",
        "    values=[[.998], [.002]]\n",
        ")"
      ],
      "metadata": {
        "id": "zcyflGd703Oe"
      },
      "execution_count": null,
      "outputs": []
    },
    {
      "cell_type": "code",
      "source": [
        "print(cpd_earthquake)"
      ],
      "metadata": {
        "colab": {
          "base_uri": "https://localhost:8080/"
        },
        "id": "Ou4vDQtj0cRR",
        "outputId": "75976ff9-0b2c-4819-8ea8-9189d28f9ec4"
      },
      "execution_count": null,
      "outputs": [
        {
          "output_type": "stream",
          "name": "stdout",
          "text": [
            "+---------------+-------+\n",
            "| Earthquake(0) | 0.998 |\n",
            "+---------------+-------+\n",
            "| Earthquake(1) | 0.002 |\n",
            "+---------------+-------+\n"
          ]
        }
      ]
    },
    {
      "cell_type": "code",
      "source": [
        "cpd_JohnCall= TabularCPD(\n",
        "    variable=\"JohnCalls\",\n",
        "    variable_card=2,\n",
        "    values=[[.95, .1], # P(JohnCalls=True | Alarm=True), P(JohnCalls=True | Alarm=False)\n",
        "            [.05, .9]], # P(JohnCalls=False | Alarm=True), P(JohnCalls=False | Alarm=False)\n",
        "    evidence=[\"Alarm\"],\n",
        "    evidence_card=[2]\n",
        ")"
      ],
      "metadata": {
        "id": "LRiTu_cZ00xP"
      },
      "execution_count": null,
      "outputs": []
    },
    {
      "cell_type": "code",
      "source": [
        "print(cpd_JohnCall)"
      ],
      "metadata": {
        "colab": {
          "base_uri": "https://localhost:8080/"
        },
        "id": "hw5D8tqP1U7Q",
        "outputId": "dbdf4d3e-2efa-4118-9283-f79b13e85854"
      },
      "execution_count": null,
      "outputs": [
        {
          "output_type": "stream",
          "name": "stdout",
          "text": [
            "+--------------+----------+----------+\n",
            "| Alarm        | Alarm(0) | Alarm(1) |\n",
            "+--------------+----------+----------+\n",
            "| JohnCalls(0) | 0.95     | 0.1      |\n",
            "+--------------+----------+----------+\n",
            "| JohnCalls(1) | 0.05     | 0.9      |\n",
            "+--------------+----------+----------+\n"
          ]
        }
      ]
    },
    {
      "cell_type": "code",
      "source": [
        "cpd_MerryCalls = TabularCPD(variable = 'MerryCalls', variable_card = 2, values = [ [.99, 0.3], [.01, 0.7]], evidence = ['Alarm'], evidence_card = [2])"
      ],
      "metadata": {
        "id": "hrAvyBWK1cC3"
      },
      "execution_count": null,
      "outputs": []
    },
    {
      "cell_type": "code",
      "source": [
        "print(cpd_MerryCalls)"
      ],
      "metadata": {
        "colab": {
          "base_uri": "https://localhost:8080/"
        },
        "id": "6Nc1nNg73_nU",
        "outputId": "6d33d815-2793-4e46-db7f-af9f5c19a39c"
      },
      "execution_count": null,
      "outputs": [
        {
          "output_type": "stream",
          "name": "stdout",
          "text": [
            "+---------------+----------+----------+\n",
            "| Alarm         | Alarm(0) | Alarm(1) |\n",
            "+---------------+----------+----------+\n",
            "| MerryCalls(0) | 0.99     | 0.3      |\n",
            "+---------------+----------+----------+\n",
            "| MerryCalls(1) | 0.01     | 0.7      |\n",
            "+---------------+----------+----------+\n"
          ]
        }
      ]
    },
    {
      "cell_type": "code",
      "source": [
        "cpd_alarm = TabularCPD(\n",
        "    variable=\"Alarm\",\n",
        "    variable_card=2,\n",
        "    values=[[.999, .71, .06, .05], # P(Alarm=True | Burglary=True, Earthquake=True), P(Alarm=True | Burglary=True, Earthquake=False), P(Alarm=True | Burglary=False, Earthquake=True), P(Alarm=True | Burglary=False, Earthquake=False)\n",
        "            [.001, .29, .94, .95]],# P(Alarm=False | Burglary=True, Earthquake=True), P(Alarm=False | Burglary=True, Earthquake=False), P(Alarm=False | Burglary=False, Earthquake=False)\n",
        "    evidence=[\"Burglary\", \"Earthquake\"],\n",
        "    evidence_card=[2, 2]\n",
        ")"
      ],
      "metadata": {
        "id": "6H9d1OCI5Ejv"
      },
      "execution_count": null,
      "outputs": []
    },
    {
      "cell_type": "code",
      "source": [
        "print(cpd_alarm)"
      ],
      "metadata": {
        "colab": {
          "base_uri": "https://localhost:8080/"
        },
        "id": "0wbCGJVE5MW8",
        "outputId": "e4807d73-8539-4116-935a-3bcc2fb7fb87"
      },
      "execution_count": null,
      "outputs": [
        {
          "output_type": "stream",
          "name": "stdout",
          "text": [
            "+------------+---------------+---------------+---------------+---------------+\n",
            "| Burglary   | Burglary(0)   | Burglary(0)   | Burglary(1)   | Burglary(1)   |\n",
            "+------------+---------------+---------------+---------------+---------------+\n",
            "| Earthquake | Earthquake(0) | Earthquake(1) | Earthquake(0) | Earthquake(1) |\n",
            "+------------+---------------+---------------+---------------+---------------+\n",
            "| Alarm(0)   | 0.999         | 0.71          | 0.06          | 0.05          |\n",
            "+------------+---------------+---------------+---------------+---------------+\n",
            "| Alarm(1)   | 0.001         | 0.29          | 0.94          | 0.95          |\n",
            "+------------+---------------+---------------+---------------+---------------+\n"
          ]
        }
      ]
    },
    {
      "cell_type": "code",
      "source": [
        "model_structure .add_cpds(cpd_burglary, cpd_earthquake, cpd_alarm, cpd_JohnCall, cpd_MerryCalls)"
      ],
      "metadata": {
        "id": "0XOaX0Nw4znD"
      },
      "execution_count": null,
      "outputs": []
    },
    {
      "cell_type": "code",
      "source": [
        "model_structure.check_model()"
      ],
      "metadata": {
        "colab": {
          "base_uri": "https://localhost:8080/"
        },
        "id": "-yM7GVVj4318",
        "outputId": "dffe15a3-8db7-4752-e0a0-3f3004e700a4"
      },
      "execution_count": null,
      "outputs": [
        {
          "output_type": "execute_result",
          "data": {
            "text/plain": [
              "True"
            ]
          },
          "metadata": {},
          "execution_count": 59
        }
      ]
    },
    {
      "cell_type": "code",
      "source": [
        "inference= VariableElimination(model_structure)\n",
        "query_result = inference.query(variables=[\"Burglary\"], evidence={\"JohnCalls\": 1, \"MerryCalls\": 1})\n",
        "print(query_result)"
      ],
      "metadata": {
        "colab": {
          "base_uri": "https://localhost:8080/"
        },
        "id": "8fawtV6o5urT",
        "outputId": "ab98c6af-166a-46e0-dc5d-c4820a8284d4"
      },
      "execution_count": null,
      "outputs": [
        {
          "output_type": "stream",
          "name": "stdout",
          "text": [
            "+-------------+-----------------+\n",
            "| Burglary    |   phi(Burglary) |\n",
            "+=============+=================+\n",
            "| Burglary(0) |          0.7158 |\n",
            "+-------------+-----------------+\n",
            "| Burglary(1) |          0.2842 |\n",
            "+-------------+-----------------+\n"
          ]
        }
      ]
    },
    {
      "cell_type": "code",
      "source": [
        "#query1\n",
        "evidence = {'Burglary': 0, 'Earthquake': 0}\n",
        "result1 = inference.query(variables=[\"JohnCalls\", \"MerryCalls\", 'Alarm'], evidence=evidence)\n",
        "print(result1)"
      ],
      "metadata": {
        "colab": {
          "base_uri": "https://localhost:8080/"
        },
        "id": "jpRC5j7T7WI0",
        "outputId": "3b976c47-ad2b-4475-971b-e3e9da1ed2ca"
      },
      "execution_count": null,
      "outputs": [
        {
          "output_type": "stream",
          "name": "stdout",
          "text": [
            "+--------------+---------------+----------+-----------------------------------+\n",
            "| JohnCalls    | MerryCalls    | Alarm    |   phi(JohnCalls,MerryCalls,Alarm) |\n",
            "+==============+===============+==========+===================================+\n",
            "| JohnCalls(0) | MerryCalls(0) | Alarm(0) |                            0.9396 |\n",
            "+--------------+---------------+----------+-----------------------------------+\n",
            "| JohnCalls(0) | MerryCalls(0) | Alarm(1) |                            0.0000 |\n",
            "+--------------+---------------+----------+-----------------------------------+\n",
            "| JohnCalls(0) | MerryCalls(1) | Alarm(0) |                            0.0095 |\n",
            "+--------------+---------------+----------+-----------------------------------+\n",
            "| JohnCalls(0) | MerryCalls(1) | Alarm(1) |                            0.0001 |\n",
            "+--------------+---------------+----------+-----------------------------------+\n",
            "| JohnCalls(1) | MerryCalls(0) | Alarm(0) |                            0.0495 |\n",
            "+--------------+---------------+----------+-----------------------------------+\n",
            "| JohnCalls(1) | MerryCalls(0) | Alarm(1) |                            0.0003 |\n",
            "+--------------+---------------+----------+-----------------------------------+\n",
            "| JohnCalls(1) | MerryCalls(1) | Alarm(0) |                            0.0005 |\n",
            "+--------------+---------------+----------+-----------------------------------+\n",
            "| JohnCalls(1) | MerryCalls(1) | Alarm(1) |                            0.0006 |\n",
            "+--------------+---------------+----------+-----------------------------------+\n"
          ]
        }
      ]
    },
    {
      "cell_type": "code",
      "source": [
        "#query2\n",
        "query_result_johncalls = inference.query(variables=[\"JohnCalls\"])\n",
        "print(query_result_johncalls)"
      ],
      "metadata": {
        "colab": {
          "base_uri": "https://localhost:8080/"
        },
        "id": "ALUPVewo7aH8",
        "outputId": "651d39e4-0e9e-4d92-9613-959f03a78591"
      },
      "execution_count": null,
      "outputs": [
        {
          "output_type": "stream",
          "name": "stdout",
          "text": [
            "+--------------+------------------+\n",
            "| JohnCalls    |   phi(JohnCalls) |\n",
            "+==============+==================+\n",
            "| JohnCalls(0) |           0.9479 |\n",
            "+--------------+------------------+\n",
            "| JohnCalls(1) |           0.0521 |\n",
            "+--------------+------------------+\n"
          ]
        }
      ]
    },
    {
      "cell_type": "code",
      "source": [
        "#query3\n",
        "evidence={ 'JohnCalls' :1, 'MerryCalls' : 1 }\n",
        "result3 = inference.query(variables=[\"Burglary\"], evidence=evidence)\n",
        "print(result3)"
      ],
      "metadata": {
        "colab": {
          "base_uri": "https://localhost:8080/"
        },
        "id": "Hsd1bJ9U8le3",
        "outputId": "0cdb0a45-60e9-40a2-d54d-73e2e7fc0100"
      },
      "execution_count": null,
      "outputs": [
        {
          "output_type": "stream",
          "name": "stdout",
          "text": [
            "+-------------+-----------------+\n",
            "| Burglary    |   phi(Burglary) |\n",
            "+=============+=================+\n",
            "| Burglary(0) |          0.7158 |\n",
            "+-------------+-----------------+\n",
            "| Burglary(1) |          0.2842 |\n",
            "+-------------+-----------------+\n"
          ]
        }
      ]
    },
    {
      "cell_type": "code",
      "source": [
        "# Print the probability of Burglary being True (1)\n",
        "print(f\"Probability of Burglary (True) given JohnCalls=True and MerryCalls=True: {result3.values[1]}\")\n",
        "\n",
        "# Print the probability of Burglary being False (0)\n",
        "print(f\"Probability of Burglary (False) given JohnCalls=True and MerryCalls=True: {result3.values[0]}\")"
      ],
      "metadata": {
        "colab": {
          "base_uri": "https://localhost:8080/"
        },
        "id": "QjO7up61BAh4",
        "outputId": "034b8523-7aeb-4108-8f6b-c7a268e5a15e"
      },
      "execution_count": null,
      "outputs": [
        {
          "output_type": "stream",
          "name": "stdout",
          "text": [
            "Probability of Burglary (True) given JohnCalls=True and MerryCalls=True: 0.284171835364393\n",
            "Probability of Burglary (False) given JohnCalls=True and MerryCalls=True: 0.7158281646356071\n"
          ]
        }
      ]
    },
    {
      "cell_type": "code",
      "source": [
        "#query\n",
        "query_result_burglary = inference.query(variables=[\"Burglary\"])\n",
        "print(query_result_burglary)"
      ],
      "metadata": {
        "colab": {
          "base_uri": "https://localhost:8080/"
        },
        "id": "TM9sDGMT9ycg",
        "outputId": "6d567bd7-0dc6-4285-bd86-e18ba0361e50"
      },
      "execution_count": null,
      "outputs": [
        {
          "output_type": "stream",
          "name": "stdout",
          "text": [
            "+-------------+-----------------+\n",
            "| Burglary    |   phi(Burglary) |\n",
            "+=============+=================+\n",
            "| Burglary(0) |          0.9990 |\n",
            "+-------------+-----------------+\n",
            "| Burglary(1) |          0.0010 |\n",
            "+-------------+-----------------+\n"
          ]
        }
      ]
    },
    {
      "cell_type": "code",
      "source": [
        "#query\n",
        "query_result_earthquake = inference.query(variables=[\"Earthquake\"])\n",
        "print(query_result_earthquake)"
      ],
      "metadata": {
        "colab": {
          "base_uri": "https://localhost:8080/"
        },
        "id": "0OSApjz999l1",
        "outputId": "a5892b69-e584-41fd-ee1f-8140dfa93c68"
      },
      "execution_count": null,
      "outputs": [
        {
          "output_type": "stream",
          "name": "stdout",
          "text": [
            "+---------------+-------------------+\n",
            "| Earthquake    |   phi(Earthquake) |\n",
            "+===============+===================+\n",
            "| Earthquake(0) |            0.9980 |\n",
            "+---------------+-------------------+\n",
            "| Earthquake(1) |            0.0020 |\n",
            "+---------------+-------------------+\n"
          ]
        }
      ]
    },
    {
      "cell_type": "code",
      "source": [
        "#query 4\n",
        "query_result_alarm = inference.query(variables=[\"Alarm\"], evidence={\"MerryCalls\": 1, \"JohnCalls\": 1})\n",
        "print(query_result_alarm)"
      ],
      "metadata": {
        "colab": {
          "base_uri": "https://localhost:8080/"
        },
        "id": "T8SuF4lp-BSA",
        "outputId": "0ff7ab07-5e6a-4c68-8ef1-497448f295d7"
      },
      "execution_count": null,
      "outputs": [
        {
          "output_type": "stream",
          "name": "stdout",
          "text": [
            "+----------+--------------+\n",
            "| Alarm    |   phi(Alarm) |\n",
            "+==========+==============+\n",
            "| Alarm(0) |       0.2393 |\n",
            "+----------+--------------+\n",
            "| Alarm(1) |       0.7607 |\n",
            "+----------+--------------+\n"
          ]
        }
      ]
    },
    {
      "cell_type": "code",
      "source": [
        "#query 5\n",
        "query_result_earthquake_given_calls = inference.query(variables=[\"Earthquake\"], evidence={\"JohnCalls\": 1, \"MerryCalls\": 1})\n",
        "print(query_result_earthquake_given_calls)"
      ],
      "metadata": {
        "colab": {
          "base_uri": "https://localhost:8080/"
        },
        "id": "YomJUY6s-bVG",
        "outputId": "fc484789-5906-4992-e690-eab8a2319bc1"
      },
      "execution_count": null,
      "outputs": [
        {
          "output_type": "stream",
          "name": "stdout",
          "text": [
            "+---------------+-------------------+\n",
            "| Earthquake    |   phi(Earthquake) |\n",
            "+===============+===================+\n",
            "| Earthquake(0) |            0.8239 |\n",
            "+---------------+-------------------+\n",
            "| Earthquake(1) |            0.1761 |\n",
            "+---------------+-------------------+\n"
          ]
        }
      ]
    },
    {
      "cell_type": "markdown",
      "metadata": {
        "id": "35fcc996"
      },
      "source": [
        "\n",
        "$P(\\text{Earthquake=True} \\mid \\text{JohnCalls=False}, \\text{MerryCalls=True})$"
      ]
    },
    {
      "cell_type": "code",
      "source": [
        "query_result_earthquake_given_john_false_merry_true = inference.query(variables=[\"Earthquake\"], evidence={\"JohnCalls\": 0, \"MerryCalls\": 1})\n",
        "print(query_result_earthquake_given_john_false_merry_true)"
      ],
      "metadata": {
        "colab": {
          "base_uri": "https://localhost:8080/"
        },
        "id": "ec9QNyyK_Yk6",
        "outputId": "15e22282-1df0-4d44-d0e3-724fe147d309"
      },
      "execution_count": null,
      "outputs": [
        {
          "output_type": "stream",
          "name": "stdout",
          "text": [
            "+---------------+-------------------+\n",
            "| Earthquake    |   phi(Earthquake) |\n",
            "+===============+===================+\n",
            "| Earthquake(0) |            0.9944 |\n",
            "+---------------+-------------------+\n",
            "| Earthquake(1) |            0.0056 |\n",
            "+---------------+-------------------+\n"
          ]
        }
      ]
    },
    {
      "cell_type": "markdown",
      "source": [],
      "metadata": {
        "id": "2H9VAOIrBdp9"
      }
    },
    {
      "cell_type": "code",
      "source": [
        "# Print the probability of Earthquake being True (1)\n",
        "print(f\"Probability of Earthquake (True) given JohnCalls=False and MerryCalls=True: {query_result_earthquake_given_john_false_merry_true.values[1]}\")\n",
        "\n"
      ],
      "metadata": {
        "colab": {
          "base_uri": "https://localhost:8080/"
        },
        "id": "pIO2vI7i_w3P",
        "outputId": "73056f8e-cb53-4334-cf08-6c1f6cffb94b"
      },
      "execution_count": null,
      "outputs": [
        {
          "output_type": "stream",
          "name": "stdout",
          "text": [
            "Probability of Earthquake (True) given JohnCalls=False and MerryCalls=True: 0.005612151520557884\n"
          ]
        }
      ]
    },
    {
      "cell_type": "code",
      "source": [],
      "metadata": {
        "id": "riPEiTEfBgpn"
      },
      "execution_count": null,
      "outputs": []
    },
    {
      "cell_type": "markdown",
      "source": [
        "$P(\\text{Alarm=False} \\mid \\text{JohnCalls=True}, \\text{MerryCalls=False})$"
      ],
      "metadata": {
        "id": "beeDHJ2lB8f1"
      }
    },
    {
      "cell_type": "code",
      "source": [
        "query_result_alarm_merryf = inference.query(variables=[\"Alarm\"], evidence={\"MerryCalls\": 0, \"JohnCalls\": 1})\n",
        "print(query_result_alarm_merryf)"
      ],
      "metadata": {
        "colab": {
          "base_uri": "https://localhost:8080/"
        },
        "id": "J099_TGu_t5-",
        "outputId": "faa10708-f7d0-4d98-8f0b-7061266de5ab"
      },
      "execution_count": null,
      "outputs": [
        {
          "output_type": "stream",
          "name": "stdout",
          "text": [
            "+----------+--------------+\n",
            "| Alarm    |   phi(Alarm) |\n",
            "+==========+==============+\n",
            "| Alarm(0) |       0.9864 |\n",
            "+----------+--------------+\n",
            "| Alarm(1) |       0.0136 |\n",
            "+----------+--------------+\n"
          ]
        }
      ]
    },
    {
      "cell_type": "code",
      "source": [
        "\n",
        "\n",
        "# Print the probability of Alarm being False (0)\n",
        "print(f\"Probability of Alarm (False) given MerryCalls=False and JohnCalls=True: {query_result_alarm_merryf.values[0]}\")"
      ],
      "metadata": {
        "colab": {
          "base_uri": "https://localhost:8080/"
        },
        "id": "j2MIFdkFAU2P",
        "outputId": "20726441-bbad-423b-9c5a-400c0fdef345"
      },
      "execution_count": null,
      "outputs": [
        {
          "output_type": "stream",
          "name": "stdout",
          "text": [
            "Probability of Alarm (False) given MerryCalls=False and JohnCalls=True: 0.9864261106686925\n"
          ]
        }
      ]
    }
  ]
}