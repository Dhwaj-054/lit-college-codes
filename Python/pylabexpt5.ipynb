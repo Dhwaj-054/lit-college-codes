{
 "cells": [
  {
   "cell_type": "code",
   "execution_count": 1,
   "id": "596ffcaa-e401-4ed5-a532-2b641effb6fc",
   "metadata": {},
   "outputs": [
    {
     "name": "stdin",
     "output_type": "stream",
     "text": [
      "Enter the first number:  12\n",
      "enter the second number:  4\n",
      "Enter which operation to perform from + - * / :  /\n"
     ]
    },
    {
     "ename": "NameError",
     "evalue": "name 'div' is not defined",
     "output_type": "error",
     "traceback": [
      "\u001b[1;31m---------------------------------------------------------------------------\u001b[0m",
      "\u001b[1;31mNameError\u001b[0m                                 Traceback (most recent call last)",
      "Cell \u001b[1;32mIn[1], line 14\u001b[0m\n\u001b[0;32m     12\u001b[0m     mult(a,b)\n\u001b[0;32m     13\u001b[0m \u001b[38;5;28;01melif\u001b[39;00m ch\u001b[38;5;241m==\u001b[39m\u001b[38;5;124m'\u001b[39m\u001b[38;5;124m/\u001b[39m\u001b[38;5;124m'\u001b[39m:\n\u001b[1;32m---> 14\u001b[0m     div(a,b)\n\u001b[0;32m     15\u001b[0m \u001b[38;5;28;01melse\u001b[39;00m:\n\u001b[0;32m     16\u001b[0m     \u001b[38;5;28mprint\u001b[39m(\u001b[38;5;124m\"\u001b[39m\u001b[38;5;124merror invalid input\u001b[39m\u001b[38;5;124m\"\u001b[39m)\n",
      "\u001b[1;31mNameError\u001b[0m: name 'div' is not defined"
     ]
    }
   ],
   "source": [
    "#q1 wap to implement simple calculator using functions\n",
    "\n",
    "\n",
    "a=int(input(\"Enter the first number: \"))\n",
    "b=int(input(\"enter the second number: \"))\n",
    "ch=(input(\"Enter which operation to perform from + - * / : \"))\n",
    "if ch=='+':\n",
    "    add(a,b)\n",
    "elif ch=='-':\n",
    "    sub(a,b)\n",
    "elif ch=='*':\n",
    "    mult(a,b)\n",
    "elif ch=='/':\n",
    "    div(a,b)\n",
    "else:\n",
    "    print(\"error invalid input\")\n",
    "\n"
   ]
  },
  {
   "cell_type": "code",
   "execution_count": null,
   "id": "826bc682-4944-4df8-9878-b3e566eff266",
   "metadata": {},
   "outputs": [],
   "source": [
    "#q2 wap to find out prime factors of a num\n",
    "\n",
    "def prime(a):\n",
    "    factors = [];\n",
    "    i=2;\n",
    "    while a>=2:\n",
    "        if n%i==0:\n",
    "            print(i);\n",
    "            factors.append(i);\n",
    "            n= n//i;\n",
    "        else:\n",
    "            i=i+1;\n",
    "    return factors\n",
    "ans = [];\n",
    "ans = prime(a)\n",
    "print(\"The prime factors of this number are:\",ans);\n",
    "\n",
    "\n",
    "a=int(input(\"enter number to check for its prime factors: \"))\n",
    "prime(a)"
   ]
  },
  {
   "cell_type": "code",
   "execution_count": 6,
   "id": "7e707fb1-9f32-4236-b8f2-63ae4294af1b",
   "metadata": {},
   "outputs": [
    {
     "name": "stdin",
     "output_type": "stream",
     "text": [
      "Enter a number:  23\n"
     ]
    },
    {
     "name": "stdout",
     "output_type": "stream",
     "text": [
      "The prime factors of are: [23]\n"
     ]
    }
   ],
   "source": [
    "def prime_factors(n):\n",
    "    factors = []\n",
    "    \n",
    "    while n % 2 == 0:\n",
    "        factors.append(2)\n",
    "        n //= 2\n",
    "\n",
    "    factor = 3\n",
    "    while factor * factor <= n:\n",
    "        while n % factor == 0:\n",
    "            factors.append(factor)\n",
    "            n //= factor\n",
    "        factor += 2\n",
    "    \n",
    "    if n > 1:\n",
    "        factors.append(n)\n",
    "    \n",
    "    return factors\n",
    "\n",
    "number = int(input(\"Enter a number: \"))\n",
    "print(\"The prime factors of are:\", prime_factors(number))\n"
   ]
  },
  {
   "cell_type": "code",
   "execution_count": 11,
   "id": "1797b96e-1e51-4b67-a857-455102a9c4a8",
   "metadata": {},
   "outputs": [
    {
     "name": "stdin",
     "output_type": "stream",
     "text": [
      "enter first integer between 1 and 11:  11\n",
      "enter second integer between 1 and 11:  4\n",
      "enter third integer between 1 and 11:  8\n"
     ]
    },
    {
     "name": "stdout",
     "output_type": "stream",
     "text": [
      "Before reducing by 10 the sum is 23\n",
      "13\n"
     ]
    }
   ],
   "source": [
    "#q3 Given 3 integers between 1 and 11, if their sum is less than or equal to 21, return their sum, \n",
    "#if their sum exceeds 21 and there is an 11, reduce the total sum by 10. \n",
    "#Finally ifthe sum (even after adjustment ecxceeds 21, return \"BUST\")\n",
    "\n",
    "\n",
    "def sumof(x,y,z):\n",
    "  sum = x+y+z\n",
    "  if(sum<=21):\n",
    "    return sum\n",
    "  else:\n",
    "    if(x==11 or y==11 or z==11):\n",
    "      print(f\"Before reducing by 10 the sum is {sum}\")\n",
    "      sum -= 10\n",
    "      if(sum>21):\n",
    "        print(\"BUST\")\n",
    "      else:\n",
    "        print(sum)\n",
    "\n",
    "x=int(input(\"enter first integer between 1 and 11: \"))\n",
    "y=int(input(\"enter second integer between 1 and 11: \"))\n",
    "z=int(input(\"enter third integer between 1 and 11: \"))\n",
    "\n",
    "sumof(x,y,z)"
   ]
  },
  {
   "cell_type": "code",
   "execution_count": 12,
   "id": "9225e530-0dfb-4cfe-939c-791b0d2a4006",
   "metadata": {},
   "outputs": [
    {
     "name": "stdin",
     "output_type": "stream",
     "text": [
      "Enter the number of terms:  10\n"
     ]
    },
    {
     "name": "stdout",
     "output_type": "stream",
     "text": [
      "Fibonacci series:\n",
      "0 1 1 2 3 5 8 13 21 34 "
     ]
    }
   ],
   "source": [
    "#q4 wap to print fibonacci series using recursion\n",
    "def fibonacci(n):\n",
    "    if n <= 1:\n",
    "        return n\n",
    "    else:\n",
    "        return fibonacci(n - 1) + fibonacci(n - 2)\n",
    "\n",
    "n = int(input(\"Enter the number of terms: \"))\n",
    "print(\"Fibonacci series:\")\n",
    "for i in range(n):\n",
    "    print(fibonacci(i), end=\" \")\n"
   ]
  },
  {
   "cell_type": "code",
   "execution_count": 13,
   "id": "30101121-8de7-4a01-8ca4-76004a6d1e8e",
   "metadata": {},
   "outputs": [
    {
     "name": "stdin",
     "output_type": "stream",
     "text": [
      "Enter a list of integers:  1 2 0 0 7 5\n"
     ]
    },
    {
     "name": "stdout",
     "output_type": "stream",
     "text": [
      "True\n"
     ]
    }
   ],
   "source": [
    "#q5 wap that take in a list of integers and prints true if contains 007 in order\n",
    "def contains(nums):\n",
    "    sequence = [0, 0, 7]\n",
    "    index = 0\n",
    "    \n",
    "    for num in nums:\n",
    "        if num == sequence[index]:\n",
    "            index += 1\n",
    "        if index == 3: \n",
    "            return True\n",
    "    return False\n",
    "\n",
    "nums = [int(x) for x in input(\"Enter a list of integers: \").split()]\n",
    "print(contains(nums))\n"
   ]
  },
  {
   "cell_type": "code",
   "execution_count": null,
   "id": "37858b47-cc9c-48c9-85e6-4c5a5dd33391",
   "metadata": {},
   "outputs": [],
   "source": []
  }
 ],
 "metadata": {
  "kernelspec": {
   "display_name": "Python 3 (ipykernel)",
   "language": "python",
   "name": "python3"
  },
  "language_info": {
   "codemirror_mode": {
    "name": "ipython",
    "version": 3
   },
   "file_extension": ".py",
   "mimetype": "text/x-python",
   "name": "python",
   "nbconvert_exporter": "python",
   "pygments_lexer": "ipython3",
   "version": "3.12.4"
  }
 },
 "nbformat": 4,
 "nbformat_minor": 5
}
