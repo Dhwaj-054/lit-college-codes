{
 "cells": [
  {
   "cell_type": "code",
   "execution_count": 2,
   "id": "4ada2151",
   "metadata": {},
   "outputs": [
    {
     "name": "stdout",
     "output_type": "stream",
     "text": [
      "11 is a prime number.\n",
      "Input must be an integer.\n"
     ]
    }
   ],
   "source": [
    "#1.\tCreate a Python function that checks if a given number is prime. Handle exceptions for non-integer input and provide informative error messages.\n",
    "def prime_num(number):\n",
    "    try:\n",
    "        number = int(number)\n",
    "        if number <= 1:\n",
    "            return f\"{number} is not prime number.\"\n",
    "            for i in range(2, int(number ** 0.5) + 1):\n",
    "                    if number % i == 0:\n",
    "                     return f\"{number} is not a prime number.\"\n",
    "        return f\"{number} is a prime number.\"\n",
    "\n",
    "    except ValueError:\n",
    "        return \"Input must be an integer.\"\n",
    "    except TypeError:\n",
    "        return \"Invalid input type. Please provide a number.\"\n",
    "\n",
    "print(prime_num(11))\n",
    "print(prime_num('a'))"
   ]
  },
  {
   "cell_type": "code",
   "execution_count": 1,
   "id": "fdf0e9be",
   "metadata": {},
   "outputs": [
    {
     "name": "stdout",
     "output_type": "stream",
     "text": [
      "Enter a formula (e.g., 1 + 1), or 'quit' to exit: 2 + 4\n",
      "The result is: 6.0\n",
      "Enter a formula (e.g., 1 + 1), or 'quit' to exit: 4 + 7\n",
      "The result is: 11.0\n",
      "Enter a formula (e.g., 1 + 1), or 'quit' to exit: 11 - 5\n",
      "The result is: 6.0\n",
      "Enter a formula (e.g., 1 + 1), or 'quit' to exit: quit\n",
      "Goodbye!\n"
     ]
    }
   ],
   "source": [
    "#2.You're going to write an interactive calculator! User input is assumed to be a formula that consist of a number, an operator (at least + and -), and another number, separated by white space (e.g. 1 + 1). Split user input using str.split(), and check whether the resulting list is valid:\n",
    "#a.\tIf the input does not consist of 3 elements, raise a FormulaError, which is a custom Exception.\n",
    "#b.\tTry to convert the first and third input to a float (like so: float_value = float(str_value)). Catch any ValueError that occurs, and instead raise a FormulaError\n",
    "#c.\tIf the second input is not '+' or '-', again raise a FormulaError\n",
    "#If the input is valid, perform the calculation and print out the result. The user is then \tprompted to provide new input, and so on, until the user enters quit.\n",
    "\n",
    "class FormulaError(Exception):\n",
    "    \"\"\"Custom exception for invalid formulas.\"\"\"\n",
    "    pass\n",
    "\n",
    "def calculator_func():\n",
    "    while True:\n",
    "        try:\n",
    "            user_input = input(\"Enter a formula (e.g., 1 + 1), or 'quit' to exit: \")\n",
    "\n",
    "            \n",
    "            if user_input.lower() == 'quit':\n",
    "                print(\"Goodbye!\")\n",
    "                break\n",
    "\n",
    "            \n",
    "            parts = user_input.split()\n",
    "\n",
    "            \n",
    "            if len(parts) != 3:\n",
    "                raise FormulaError(\"Input must consist of three elements: number operator number.\")\n",
    "\n",
    "            \n",
    "            try:\n",
    "                num1 = float(parts[0])\n",
    "                num2 = float(parts[2])\n",
    "            except ValueError:\n",
    "                raise FormulaError(\"The first and third elements must be valid numbers.\")\n",
    "\n",
    "            \n",
    "            operator = parts[1]\n",
    "            if operator not in ['+', '-']:\n",
    "                raise FormulaError(\"The operator must be either '+' or '-'.\")\n",
    "\n",
    "            \n",
    "            if operator == '+':\n",
    "                result = num1 + num2\n",
    "            elif operator == '-':\n",
    "                result = num1 - num2\n",
    "\n",
    "            \n",
    "            print(f\"The result is: {result}\")\n",
    "\n",
    "        except FormulaError as e:\n",
    "            print(f\"FormulaError: {e}\")\n",
    "\n",
    "calculator_func()\n"
   ]
  },
  {
   "cell_type": "code",
   "execution_count": 3,
   "id": "30ede440",
   "metadata": {},
   "outputs": [
    {
     "name": "stdout",
     "output_type": "stream",
     "text": [
      "Enter the file name to open: EXPERIMENT NO 12\n",
      "Error: The file 'EXPERIMENT NO 12' was not found.\n"
     ]
    }
   ],
   "source": [
    "#3.\tWrite a Python program that opens a file and display contents of file and handles a FileNotFoundError exception if the file does not exist.\n",
    "def read_file(file_name):\n",
    "    try:\n",
    "       \n",
    "        with open(file_name, 'r') as file:\n",
    "           \n",
    "            contents = file.read()\n",
    "            print(contents)\n",
    "    except FileNotFoundError:\n",
    "       \n",
    "        print(f\"Error: The file '{file_name}' was not found.\")\n",
    "    except Exception as e:\n",
    "        \n",
    "        print(f\"An error occurred: {e}\")\n",
    "\n",
    "file_name = input(\"Enter the file name to open: \")\n",
    "read_file(file_name)"
   ]
  },
  {
   "cell_type": "code",
   "execution_count": 4,
   "id": "88769cd0",
   "metadata": {},
   "outputs": [
    {
     "name": "stdout",
     "output_type": "stream",
     "text": [
      "Enter the file name to write to: EXPERIMENT NO. 10\n",
      "Enter the content to write: Hello World of python\n",
      "Successfully wrote to EXPERIMENT NO. 10.\n"
     ]
    }
   ],
   "source": [
    "#4.\tWrite a Python program that opens a file in write mode using with..open and handles a PermissionError exception if there is a permission issue.\n",
    "def write_to_file(file_name, content):\n",
    "    try:\n",
    "       \n",
    "        with open(file_name, 'w') as file:\n",
    "          \n",
    "            file.write(content)\n",
    "            print(f\"Successfully wrote to {file_name}.\")\n",
    "    except PermissionError:\n",
    "      \n",
    "        print(f\"Error: Permission denied. You don't have write access to the file '{file_name}'.\")\n",
    "    except Exception as e:\n",
    "        \n",
    "        print(f\"An unexpected error occurred: {e}\")\n",
    "\n",
    "\n",
    "file_name = input(\"Enter the file name to write to: \")\n",
    "content = input(\"Enter the content to write: \")\n",
    "write_to_file(file_name, content)"
   ]
  },
  {
   "cell_type": "code",
   "execution_count": null,
   "id": "68b99064",
   "metadata": {},
   "outputs": [],
   "source": []
  }
 ],
 "metadata": {
  "kernelspec": {
   "display_name": "Python 3 (ipykernel)",
   "language": "python",
   "name": "python3"
  },
  "language_info": {
   "codemirror_mode": {
    "name": "ipython",
    "version": 3
   },
   "file_extension": ".py",
   "mimetype": "text/x-python",
   "name": "python",
   "nbconvert_exporter": "python",
   "pygments_lexer": "ipython3",
   "version": "3.11.4"
  }
 },
 "nbformat": 4,
 "nbformat_minor": 5
}
