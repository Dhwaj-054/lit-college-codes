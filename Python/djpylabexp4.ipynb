{
 "cells": [
  {
   "cell_type": "code",
   "execution_count": 4,
   "id": "ef3bff97-3e42-4b27-9c3b-790ff86d6ab9",
   "metadata": {},
   "outputs": [
    {
     "name": "stdin",
     "output_type": "stream",
     "text": [
      "Enter a string:  monday\n"
     ]
    },
    {
     "name": "stdout",
     "output_type": "stream",
     "text": [
      "Middle three characters: nda\n"
     ]
    }
   ],
   "source": [
    "input_str = input(\"Enter a string: \")\n",
    "if len(input_str) < 3:\n",
    "    print(\"Input string is too short to extract middle three characters.\")\n",
    "else:\n",
    "    middle_index = len(input_str) // 2\n",
    "    start_index = middle_index - 1\n",
    "    end_index = middle_index + 2\n",
    "    middle_chars = input_str[start_index:end_index]\n",
    "    print(\"Middle three characters:\", middle_chars)"
   ]
  },
  {
   "cell_type": "code",
   "execution_count": 7,
   "id": "79aac0bb-5d40-4b5e-91b2-092bc6a9243d",
   "metadata": {},
   "outputs": [
    {
     "name": "stdout",
     "output_type": "stream",
     "text": [
      "rasitama\n"
     ]
    }
   ],
   "source": [
    "str1=\"rama\"\n",
    "str3=\"sita\"\n",
    "middle=len(str1)//2\n",
    "str2=str1[:middle]+str3+str1[middle:]\n",
    "print(str2)\n"
   ]
  },
  {
   "cell_type": "code",
   "execution_count": 16,
   "id": "643b8121-0e4b-4209-b1ed-a91c3823d43d",
   "metadata": {},
   "outputs": [
    {
     "name": "stdin",
     "output_type": "stream",
     "text": [
      "enter a string:  HAAPyy\n"
     ]
    },
    {
     "name": "stdout",
     "output_type": "stream",
     "text": [
      "yyHAAP\n"
     ]
    }
   ],
   "source": [
    "input_str1=input(\"enter a string: \")\n",
    "arr1=[]\n",
    "arr2=[]\n",
    "for char in input_str1:\n",
    "    if char.islower():\n",
    "        arr1.append(char)\n",
    "    else:\n",
    "        arr2.append(char)\n",
    "str2=''.join(arr1+arr2)\n",
    "print(str2)"
   ]
  },
  {
   "cell_type": "code",
   "execution_count": 17,
   "id": "54586cdc-e6a0-4160-a88a-2871785623e3",
   "metadata": {},
   "outputs": [
    {
     "name": "stdin",
     "output_type": "stream",
     "text": [
      "enter a string:  welcome to India! the 1st\n"
     ]
    },
    {
     "name": "stdout",
     "output_type": "stream",
     "text": [
      "'w': 1\n",
      "'e': 3\n",
      "'l': 1\n",
      "'c': 1\n",
      "'o': 2\n",
      "'m': 1\n",
      "' ': 4\n",
      "'t': 3\n",
      "'I': 1\n",
      "'n': 1\n",
      "'d': 1\n",
      "'i': 1\n",
      "'a': 1\n",
      "'!': 1\n",
      "'h': 1\n",
      "'1': 1\n",
      "'s': 1\n"
     ]
    }
   ],
   "source": [
    "str1=input(\"enter a string: \")\n",
    "characters = []\n",
    "counts = []\n",
    "for char in str1:\n",
    "    if char in characters:\n",
    "        index = characters.index(char)\n",
    "        counts[index] += 1\n",
    "    else:\n",
    "        characters.append(char)\n",
    "        counts.append(1)\n",
    "for i in range(len(characters)):\n",
    "    print(f\"'{characters[i]}': {counts[i]}\")"
   ]
  },
  {
   "cell_type": "code",
   "execution_count": 20,
   "id": "0ff91eb6-3228-42b6-92af-4341940cbddb",
   "metadata": {},
   "outputs": [
    {
     "name": "stdin",
     "output_type": "stream",
     "text": [
      "Enter a string:   monday1 tuesday2 wednesday! ?\n"
     ]
    },
    {
     "name": "stdout",
     "output_type": "stream",
     "text": [
      "Letters: 22\n",
      "Digits: 2\n",
      "Special symbols: 6\n"
     ]
    }
   ],
   "source": [
    "input_str = input(\"Enter a string: \")\n",
    "letters_count = 0\n",
    "digits_count = 0\n",
    "special_symbols_count = 0\n",
    "for char in input_str:\n",
    "    if char.isalpha():\n",
    "        letters_count += 1\n",
    "    elif char.isdigit():\n",
    "        digits_count += 1\n",
    "    else:\n",
    "        special_symbols_count += 1\n",
    "print(\"Letters:\",letters_count)\n",
    "print(\"Digits:\",digits_count)\n",
    "print(\"Special symbols:\", special_symbols_count)"
   ]
  },
  {
   "cell_type": "code",
   "execution_count": 33,
   "id": "ee2620d8-a169-4646-b531-12f637afdab9",
   "metadata": {},
   "outputs": [
    {
     "name": "stdin",
     "output_type": "stream",
     "text": [
      "enter a string:  Jai Sita Rama\n"
     ]
    },
    {
     "name": "stdout",
     "output_type": "stream",
     "text": [
      "The last position of the substring 'Rama' is at index 9.\n"
     ]
    }
   ],
   "source": [
    "inputstr=input(\"enter a string: \")\n",
    "s1= \"Rama\" \n",
    "last = -1\n",
    "s1length = len(s1)\n",
    "for i in range(len(inputstr) - s1length + 1):\n",
    "    if inputstr[i:i + s1length] == s1:\n",
    "        last = i\n",
    "if last!= -1:\n",
    "    print(\"The last position of the substring\" ,s1, \" is at index\",last)\n",
    "else:\n",
    "    print(\"The substring \",s1,\" was not found in the given string.\")"
   ]
  },
  {
   "cell_type": "code",
   "execution_count": 24,
   "id": "591d3ea5-eb51-4f37-a0ed-c4e3a64183ad",
   "metadata": {},
   "outputs": [
    {
     "name": "stdin",
     "output_type": "stream",
     "text": [
      "Enter a string:  hello 123 world 7648\n"
     ]
    },
    {
     "name": "stdout",
     "output_type": "stream",
     "text": [
      "Sum of digits: 31\n",
      "Average of digits:  4.429\n"
     ]
    }
   ],
   "source": [
    "input_str= input(\"Enter a string: \")\n",
    "dsum = 0\n",
    "dcount = 0\n",
    "for char in input_str:\n",
    "    if char.isdigit():\n",
    "        dsum += int(char)\n",
    "        dcount += 1\n",
    "if dcount > 0:\n",
    "    daverage = dsum / dcount\n",
    "else:\n",
    "    daverage = 0 \n",
    "print(\"Sum of digits:\", dsum)\n",
    "print(\"Average of digits: \",round(daverage,3))"
   ]
  },
  {
   "cell_type": "code",
   "execution_count": 27,
   "id": "c45fff20-9c80-4973-9d3b-0d769a7efc3f",
   "metadata": {},
   "outputs": [
    {
     "name": "stdin",
     "output_type": "stream",
     "text": [
      "enter a string with  integers:  hello 123 456world\n"
     ]
    },
    {
     "name": "stdout",
     "output_type": "stream",
     "text": [
      "hello  world\n"
     ]
    }
   ],
   "source": [
    "inputstr=input(\"enter a string with  integers: \")\n",
    "newstr=''\n",
    "for char in inputstr:\n",
    "    if char.isdigit():\n",
    "        continue\n",
    "    else :\n",
    "        newstr+=char\n",
    "print(newstr)"
   ]
  },
  {
   "cell_type": "code",
   "execution_count": 30,
   "id": "8578b5f6-2a8e-4ebb-a9df-64bdae769fbc",
   "metadata": {},
   "outputs": [
    {
     "name": "stdin",
     "output_type": "stream",
     "text": [
      "Enter a string:  this@ nmumbai$ is! great%\n"
     ]
    },
    {
     "name": "stdout",
     "output_type": "stream",
     "text": [
      "this##nmumbai##is##great#\n"
     ]
    }
   ],
   "source": [
    "str5 = input(\"Enter a string: \")\n",
    "newstr1=''\n",
    "for char in str5:\n",
    "    if char.isalpha():\n",
    "        newstr1+=char\n",
    "    elif char.isdigit():\n",
    "        newstr1+=char\n",
    "    else:\n",
    "        newstr1+='#'\n",
    "print(newstr1)"
   ]
  },
  {
   "cell_type": "code",
   "execution_count": null,
   "id": "d0f8200d-a69f-4542-a3d8-b2083e9fffd4",
   "metadata": {},
   "outputs": [],
   "source": []
  }
 ],
 "metadata": {
  "kernelspec": {
   "display_name": "Python 3 (ipykernel)",
   "language": "python",
   "name": "python3"
  },
  "language_info": {
   "codemirror_mode": {
    "name": "ipython",
    "version": 3
   },
   "file_extension": ".py",
   "mimetype": "text/x-python",
   "name": "python",
   "nbconvert_exporter": "python",
   "pygments_lexer": "ipython3",
   "version": "3.11.7"
  }
 },
 "nbformat": 4,
 "nbformat_minor": 5
}
