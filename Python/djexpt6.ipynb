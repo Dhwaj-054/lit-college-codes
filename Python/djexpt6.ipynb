{
 "cells": [
  {
   "cell_type": "code",
   "execution_count": 1,
   "metadata": {},
   "outputs": [
    {
     "name": "stdout",
     "output_type": "stream",
     "text": [
      "Even numbers: [2, 14]\n"
     ]
    }
   ],
   "source": [
    "#expt 6\n",
    "#q1\n",
    "input_array = input(\"Enter numbers2: \")\n",
    "\n",
    "array = list(map(int, input_array.split()))\n",
    "\n",
    "even_numbers = []\n",
    "for num in array:\n",
    "    if num % 2 == 0:\n",
    "        even_numbers.append(num)\n",
    "\n",
    "print(\"Even numbers:\", even_numbers)\n"
   ]
  },
  {
   "cell_type": "code",
   "execution_count": null,
   "metadata": {},
   "outputs": [],
   "source": [
    "#q2 \n",
    "input_arr = input(\"Enter numbers2: \")\n",
    "\n",
    "arr = list(map(int, input_arr.split()))\n"
   ]
  }
 ],
 "metadata": {
  "kernelspec": {
   "display_name": "base",
   "language": "python",
   "name": "python3"
  },
  "language_info": {
   "codemirror_mode": {
    "name": "ipython",
    "version": 3
   },
   "file_extension": ".py",
   "mimetype": "text/x-python",
   "name": "python",
   "nbconvert_exporter": "python",
   "pygments_lexer": "ipython3",
   "version": "3.11.4"
  }
 },
 "nbformat": 4,
 "nbformat_minor": 2
}
