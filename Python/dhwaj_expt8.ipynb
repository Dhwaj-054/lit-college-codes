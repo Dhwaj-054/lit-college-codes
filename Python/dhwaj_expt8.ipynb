{
 "cells": [
  {
   "cell_type": "code",
   "execution_count": 2,
   "id": "f5cbc9b5",
   "metadata": {},
   "outputs": [
    {
     "name": "stdout",
     "output_type": "stream",
     "text": [
      "Hello Everyone\n",
      "Hello Everyone\n",
      "Hello Everyone\n",
      "Hello Everyone\n",
      "Hello Everyone\n"
     ]
    }
   ],
   "source": [
    "#expt8q1\n",
    "def repeat(f):\n",
    "    def wrapper(*args, **kwargs):\n",
    "        for _ in range(5):\n",
    "            f(*args, **kwargs)\n",
    "    return wrapper\n",
    "\n",
    "@repeat\n",
    "def greet(name):\n",
    "    print(\"Hello\", name)\n",
    "\n",
    "greet(\"Everyone\")\n"
   ]
  },
  {
   "cell_type": "code",
   "execution_count": 5,
   "id": "4cdc3a2a",
   "metadata": {},
   "outputs": [
    {
     "name": "stdout",
     "output_type": "stream",
     "text": [
      "The even number is: 42\n",
      "Error: The argument must be an even number.\n"
     ]
    }
   ],
   "source": [
    "#expt8q2\n",
    "def even_arg_decorator(f):\n",
    "    def wrapper(arg):\n",
    "        if arg % 2 == 0:\n",
    "            return f(arg)\n",
    "        else:\n",
    "            print(\"Error: The argument must be an even number.\")\n",
    "    return wrapper\n",
    "\n",
    "@even_arg_decorator\n",
    "def print_even_number(num):\n",
    "    print(f\"The even number is: {num}\")\n",
    "\n",
    "print_even_number(42)  \n",
    "print_even_number(13)  "
   ]
  },
  {
   "cell_type": "code",
   "execution_count": 10,
   "id": "ebcd4a5e",
   "metadata": {},
   "outputs": [
    {
     "name": "stdout",
     "output_type": "stream",
     "text": [
      "120\n"
     ]
    }
   ],
   "source": [
    "#expt8q3\n",
    "def multiply(factor):\n",
    "    def decorator(f):\n",
    "        def wrapper(*args, **kwargs):\n",
    "            result = f(*args, **kwargs)\n",
    "            return result * factor\n",
    "        return wrapper\n",
    "    return decorator\n",
    "\n",
    "@multiply(3)\n",
    "def add(a, b):\n",
    "    return a + b\n",
    "\n",
    "result = add(22, 18)  \n",
    "print(result)\n"
   ]
  },
  {
   "cell_type": "code",
   "execution_count": 13,
   "id": "92605c0e",
   "metadata": {},
   "outputs": [
    {
     "name": "stdout",
     "output_type": "stream",
     "text": [
      "16\n"
     ]
    }
   ],
   "source": [
    "#expt8q4\n",
    "def square(f):\n",
    "    def wrapper(num):\n",
    "        result = f(num)\n",
    "        return result ** 2\n",
    "    return wrapper\n",
    "\n",
    "def doubled(f):\n",
    "    def wrapper(num):\n",
    "        result = f(num)\n",
    "        return result * 2\n",
    "    return wrapper\n",
    "\n",
    "@square\n",
    "@doubled\n",
    "def calculate(num):\n",
    "    return num\n",
    "\n",
    "result = calculate(2) \n",
    "print(result) \n"
   ]
  },
  {
   "cell_type": "code",
   "execution_count": null,
   "id": "07f304b8",
   "metadata": {},
   "outputs": [],
   "source": []
  }
 ],
 "metadata": {
  "kernelspec": {
   "display_name": "Python 3",
   "language": "python",
   "name": "python3"
  },
  "language_info": {
   "codemirror_mode": {
    "name": "ipython",
    "version": 3
   },
   "file_extension": ".py",
   "mimetype": "text/x-python",
   "name": "python",
   "nbconvert_exporter": "python",
   "pygments_lexer": "ipython3",
   "version": "3.8.8"
  }
 },
 "nbformat": 4,
 "nbformat_minor": 5
}
