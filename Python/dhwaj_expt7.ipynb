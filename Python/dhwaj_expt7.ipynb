{
 "cells": [
  {
   "cell_type": "code",
   "execution_count": 5,
   "id": "59d6c05f",
   "metadata": {},
   "outputs": [
    {
     "name": "stdout",
     "output_type": "stream",
     "text": [
      "Sorted list of tuples: [(1, 'bus'), (2, 'bike'), (3, 'car'), (4, 'truck')]\n"
     ]
    }
   ],
   "source": [
    "#expt7q1\n",
    "tuples_list = [(3, 'car'), (2, 'bike'), (4, 'truck'), (1, 'bus')]\n",
    "\n",
    "# Sort the list of tuples using lambda\n",
    "sorted_tuples = sorted(tuples_list, key=lambda x: x[0])\n",
    "\n",
    "print(\"Sorted list of tuples:\", sorted_tuples)"
   ]
  },
  {
   "cell_type": "code",
   "execution_count": 8,
   "id": "6dcc7500",
   "metadata": {},
   "outputs": [
    {
     "name": "stdout",
     "output_type": "stream",
     "text": [
      "Squared numbers: [1, 9, 25, 49, 81, 121, 169, 225]\n",
      "Cubed numbers: [1, 27, 125, 343, 729, 1331, 2197, 3375]\n"
     ]
    }
   ],
   "source": [
    "#expt7q2\n",
    "numbers = [1, 3, 5, 7, 9, 11, 13, 15]\n",
    "\n",
    "# Squaring\n",
    "squared = list(map(lambda x: x ** 2, numbers))\n",
    "\n",
    "# Cubing\n",
    "cubed = list(map(lambda x: x ** 3, numbers))\n",
    "\n",
    "print(\"Squared numbers:\", squared)\n",
    "print(\"Cubed numbers:\", cubed)\n"
   ]
  },
  {
   "cell_type": "code",
   "execution_count": 10,
   "id": "e806f3e1",
   "metadata": {},
   "outputs": [
    {
     "name": "stdout",
     "output_type": "stream",
     "text": [
      "Added list: [12, 24, 36, 48]\n",
      "Difference list: [8, 16, 24, 32]\n"
     ]
    }
   ],
   "source": [
    "#expt7q3\n",
    "list1 = [10, 20, 30, 40]\n",
    "list2 = [2, 4, 6, 8]\n",
    "\n",
    "def add(x, y):\n",
    "    return x + y\n",
    "\n",
    "def subtract(x, y):\n",
    "    return x - y\n",
    "\n",
    "added = list(map(add, list1, list2))\n",
    "\n",
    "difference = list(map(subtract, list1, list2))\n",
    "\n",
    "print(\"Added list:\", added)\n",
    "print(\"Difference list:\", difference)\n"
   ]
  },
  {
   "cell_type": "code",
   "execution_count": 13,
   "id": "36eb2d38",
   "metadata": {},
   "outputs": [
    {
     "name": "stdout",
     "output_type": "stream",
     "text": [
      "Students with grade >= 95:\n",
      "{'name': 'Dhwaj', 'age': 20, 'grade': 96}\n",
      "{'name': 'Hadi', 'age': 21, 'grade': 98}\n",
      "{'name': 'Om', 'age': 18, 'grade': 100}\n"
     ]
    }
   ],
   "source": [
    "#expt7q4\n",
    "students = [\n",
    "    {'name': 'Dhwaj', 'age': 20, 'grade': 96},\n",
    "    {'name': 'Aarnav', 'age': 19, 'grade': 85},\n",
    "    {'name': 'Hadi', 'age': 21, 'grade': 98},\n",
    "    {'name': 'Krish', 'age': 23, 'grade': 92},\n",
    "    {'name': 'Om', 'age': 18, 'grade': 100}\n",
    "]\n",
    "\n",
    "def check(student):\n",
    "    return student['grade'] >= 95\n",
    "\n",
    "scorers= list(filter(check, students))\n",
    "\n",
    "print(\"Students with grade >= 95:\")\n",
    "for student in scorers:\n",
    "    print(student)\n"
   ]
  },
  {
   "cell_type": "code",
   "execution_count": 1,
   "id": "7ba59d43",
   "metadata": {},
   "outputs": [
    {
     "name": "stdout",
     "output_type": "stream",
     "text": [
      "The product of numbers from 1 to 100 is: 93326215443944152681699238856266700490715968264381621468592963895217599993229915608941463976156518286253697920827223758251185210916864000000000000000000000000\n"
     ]
    }
   ],
   "source": [
    "#expt7q5\n",
    "from functools import reduce\n",
    "\n",
    "def multiply(x, y):\n",
    "    return x * y\n",
    "\n",
    "numbers = range(1, 101)\n",
    "\n",
    "# Using reduce\n",
    "product = reduce(multiply, numbers)\n",
    "\n",
    "print(\"The product of numbers from 1 to 100 is:\", product)\n"
   ]
  }
 ],
 "metadata": {
  "kernelspec": {
   "display_name": "Python 3",
   "language": "python",
   "name": "python3"
  },
  "language_info": {
   "codemirror_mode": {
    "name": "ipython",
    "version": 3
   },
   "file_extension": ".py",
   "mimetype": "text/x-python",
   "name": "python",
   "nbconvert_exporter": "python",
   "pygments_lexer": "ipython3",
   "version": "3.8.8"
  }
 },
 "nbformat": 4,
 "nbformat_minor": 5
}
